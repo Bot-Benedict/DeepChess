{
 "cells": [
  {
   "cell_type": "code",
   "execution_count": 35,
   "metadata": {},
   "outputs": [],
   "source": [
    "import chess\n",
    "import numpy as np\n",
    "import tensorflow as tf\n",
    "import os\n",
    "from tqdm import tqdm\n",
    "from collections import defaultdict\n",
    "\n",
    "import pandas as pd"
   ]
  },
  {
   "cell_type": "code",
   "execution_count": 2,
   "metadata": {},
   "outputs": [],
   "source": [
    "deepchess = tf.keras.models.load_model('../models/deepchess/deepchess')"
   ]
  },
  {
   "cell_type": "code",
   "execution_count": 3,
   "metadata": {},
   "outputs": [],
   "source": [
    "def fen_to_bitboard(fen):\n",
    "    '''\n",
    "    Takes in a FEN position and returns a bitboard notation\n",
    "    '''\n",
    "    \n",
    "    chess_pieces = {\n",
    "        'p': 0,\n",
    "        'n': 1,\n",
    "        'b': 2,\n",
    "        'r': 3,\n",
    "        'q': 4,\n",
    "        'k': 5,\n",
    "        'P': 6,\n",
    "        'N': 7,\n",
    "        'B': 8,\n",
    "        'R': 9,\n",
    "        'Q': 10,\n",
    "        'K': 11\n",
    "    }\n",
    "    \n",
    "    bitboard = [0]*773\n",
    "    currIndex = 0\n",
    "    [position, turn, castling, _, _, _] = fen.split(' ')\n",
    "    for ch in position:\n",
    "        if ch == '/':\n",
    "            continue\n",
    "        elif ch >= '1' and ch <= '8':\n",
    "            currIndex += (ord(ch) - ord('0')) * 12\n",
    "        else:\n",
    "            bitboard[currIndex + chess_pieces[ch]] = 1\n",
    "            currIndex += 12\n",
    "    bitboard[768] = 1 if turn == 'w' else 0\n",
    "    bitboard[769] = 1 if 'K' in castling else 0\n",
    "    bitboard[770] = 1 if 'Q' in castling else 0\n",
    "    bitboard[771] = 1 if 'k' in castling else 0\n",
    "    bitboard[772] = 1 if 'q' in castling else 0\n",
    "    return bitboard"
   ]
  },
  {
   "cell_type": "code",
   "execution_count": 4,
   "metadata": {},
   "outputs": [
    {
     "name": "stderr",
     "output_type": "stream",
     "text": [
      "100%|██████████| 15/15 [00:23<00:00,  1.54s/it]\n"
     ]
    },
    {
     "data": {
      "text/plain": [
       "1500"
      ]
     },
     "execution_count": 4,
     "metadata": {},
     "output_type": "execute_result"
    }
   ],
   "source": [
    "STS_DIR = '../data/STS/'\n",
    "count  = 0\n",
    "total = 0\n",
    "move_score = defaultdict(lambda: defaultdict(int))\n",
    "predictors = defaultdict(list)\n",
    "game_list = defaultdict(set)\n",
    "\n",
    "for f in tqdm(os.listdir(STS_DIR)):\n",
    "    file = open(STS_DIR+f)\n",
    "    for game in file.readlines():\n",
    "        \n",
    "        fen = [g.strip() for g in game.split('-')][0]\n",
    "\n",
    "        # find all moves\n",
    "        for i in game.split('\"'):\n",
    "            if '=' in i:\n",
    "                moves = [k.split('=') for k in [j.strip() for j in i.split(',')]]\n",
    "                break\n",
    "        # There are 23 games without the term c0, and all 23 only has 1 best move.\n",
    "        if 'c0' not in game:\n",
    "            moves = [[game.split('bm')[-1].split(';')[0].strip(), 10]]\n",
    "        count+=1\n",
    "        board = chess.Board(fen)\n",
    "        legal_moves = list(board.legal_moves)\n",
    "        total += len(legal_moves)\n",
    "        for m in legal_moves:\n",
    "            board = chess.Board(fen)\n",
    "            board.push(m)\n",
    "            predictors[count].append(fen_to_bitboard(board.fen()))\n",
    "            game_list[count].add(tuple(fen_to_bitboard(board.fen())))\n",
    "\n",
    "\n",
    "        for m in moves:\n",
    "            board = chess.Board(fen)\n",
    "            to_move, score = m[0], m[1]\n",
    "            board.push_san(to_move)\n",
    "            # df['id'].append(count)\n",
    "            # df['bitboard'].append(fen_to_bitboard(board.fen()))\n",
    "            # df['score'].append(score)\n",
    "            move_score[count][tuple(fen_to_bitboard(board.fen()))] = score       \n",
    "count"
   ]
  },
  {
   "cell_type": "code",
   "execution_count": 17,
   "metadata": {},
   "outputs": [
    {
     "name": "stderr",
     "output_type": "stream",
     "text": [
      "100%|██████████| 1500/1500 [49:04<00:00,  1.96s/it]\n"
     ]
    }
   ],
   "source": [
    "best = {}\n",
    "for k in tqdm(predictors):\n",
    "    x1 = np.array([predictors[k][0]])[:, np.newaxis, :]\n",
    "    for i in range(1, len(predictors[k])):\n",
    "        x2 = np.array([predictors[k][i]])[:, np.newaxis, :]\n",
    "        pred = deepchess.predict((x1,x2))\n",
    "        # meaning x2 is preferred over x1\n",
    "        if np.argmax(pred[0][0]):\n",
    "            x1 = x2\n",
    "    best[k] = x1"
   ]
  },
  {
   "cell_type": "code",
   "execution_count": 19,
   "metadata": {},
   "outputs": [
    {
     "data": {
      "text/plain": [
       "1160"
      ]
     },
     "execution_count": 19,
     "metadata": {},
     "output_type": "execute_result"
    }
   ],
   "source": [
    "# 1160  out of 15,000.... tragic i know.\n",
    "score = 0\n",
    "for k in best:\n",
    "    score += int(move_score[k][tuple(best[k][0][0])])\n",
    "score"
   ]
  },
  {
   "cell_type": "code",
   "execution_count": 21,
   "metadata": {},
   "outputs": [
    {
     "data": {
      "text/plain": [
       "57471"
      ]
     },
     "execution_count": 21,
     "metadata": {},
     "output_type": "execute_result"
    }
   ],
   "source": [
    "\n",
    "# total number of nodes\n",
    "d = 0\n",
    "for k in game_list:\n",
    "    d += len(game_list[k])\n",
    "d"
   ]
  },
  {
   "cell_type": "code",
   "execution_count": 22,
   "metadata": {},
   "outputs": [
    {
     "data": {
      "text/plain": [
       "38.314"
      ]
     },
     "execution_count": 22,
     "metadata": {},
     "output_type": "execute_result"
    }
   ],
   "source": [
    "# average nodes searched\n",
    "57471/1500"
   ]
  },
  {
   "cell_type": "code",
   "execution_count": 73,
   "metadata": {},
   "outputs": [
    {
     "name": "stderr",
     "output_type": "stream",
     "text": [
      "100%|██████████| 15/15 [00:01<00:00, 11.84it/s]\n"
     ]
    },
    {
     "data": {
      "text/plain": [
       "1381"
      ]
     },
     "execution_count": 73,
     "metadata": {},
     "output_type": "execute_result"
    }
   ],
   "source": [
    "STS_DIR = '../data/STS/'\n",
    "count  = 0\n",
    "total = 0\n",
    "move_score = defaultdict(lambda: defaultdict(int))\n",
    "predictors = defaultdict(list)\n",
    "game_list = defaultdict(set)\n",
    "\n",
    "df = defaultdict(list)\n",
    "\n",
    "for f in tqdm(os.listdir(STS_DIR)):\n",
    "    file = open(STS_DIR+f)\n",
    "    for game in file.readlines():\n",
    "        \n",
    "        fen = [g.strip() for g in game.split('-')][0]\n",
    "\n",
    "        # find all moves\n",
    "        for i in game.split('\"'):\n",
    "            if '=' in i:\n",
    "                moves = [k.split('=') for k in [j.strip() for j in i.split(',')]]\n",
    "                break\n",
    "        # There are 23 games without the term c0, and all 23 only has 1 best move.\n",
    "        if 'c0' not in game or len(moves)==1:\n",
    "            continue\n",
    "        count+=1\n",
    "        for m in moves:\n",
    "            board = chess.Board(fen)\n",
    "            to_move, score = m[0], m[1]\n",
    "            board.push_san(to_move)\n",
    "            df['id'].append(count)\n",
    "            df['bitboard'].append(fen_to_bitboard(board.fen()))\n",
    "            df['score'].append(score)\n",
    "count"
   ]
  },
  {
   "cell_type": "code",
   "execution_count": 74,
   "metadata": {},
   "outputs": [
    {
     "name": "stderr",
     "output_type": "stream",
     "text": [
      "100%|██████████| 1381/1381 [03:05<00:00,  7.46it/s]\n"
     ]
    }
   ],
   "source": [
    "pos_df = pd.DataFrame(df)\n",
    "score2 = 0\n",
    "for id in tqdm(pos_df['id'].unique()):\n",
    "    cur_df = pos_df.loc[pos_df['id']==id].reset_index()\n",
    "    x1 = np.array([list(cur_df['bitboard'])[0]])[:, np.newaxis, :]\n",
    "\n",
    "    for i in range(1, len(cur_df)):\n",
    "        x2 = np.array([list(cur_df['bitboard'])[i]])[:, np.newaxis, :]\n",
    "        pred1 = deepchess.predict((x1,x2))\n",
    "        \n",
    "        if np.argmax(pred1[0][0]) == 1:\n",
    "            x1 = x2\n",
    "    \n",
    "    for i in range(len(cur_df)):\n",
    "        if (list(cur_df['bitboard'])[i] == x1).all():\n",
    "            score2 += int(cur_df.iloc[i]['score'])\n",
    "            break"
   ]
  },
  {
   "cell_type": "code",
   "execution_count": 85,
   "metadata": {},
   "outputs": [
    {
     "data": {
      "text/plain": [
       "(8546, 13810)"
      ]
     },
     "execution_count": 85,
     "metadata": {},
     "output_type": "execute_result"
    }
   ],
   "source": [
    "# score, total maximum score\n",
    "score2, len(pos_df['id'].unique())*10"
   ]
  },
  {
   "cell_type": "code",
   "execution_count": 86,
   "metadata": {},
   "outputs": [
    {
     "data": {
      "text/plain": [
       "61.88269370021723"
      ]
     },
     "execution_count": 86,
     "metadata": {},
     "output_type": "execute_result"
    }
   ],
   "source": [
    "(8546/13810)*100"
   ]
  },
  {
   "cell_type": "code",
   "execution_count": 83,
   "metadata": {},
   "outputs": [
    {
     "name": "stderr",
     "output_type": "stream",
     "text": [
      "100%|██████████| 1381/1381 [00:01<00:00, 1045.73it/s]\n"
     ]
    },
    {
     "data": {
      "text/plain": [
       "5084"
      ]
     },
     "execution_count": 83,
     "metadata": {},
     "output_type": "execute_result"
    }
   ],
   "source": [
    "min_score = 0\n",
    "for id in tqdm(pos_df['id'].unique()):\n",
    "    cur_df = pos_df.loc[pos_df['id']==id].reset_index()\n",
    "    min_score += min(cur_df['score'].astype('int'))\n",
    "min_score"
   ]
  }
 ],
 "metadata": {
  "interpreter": {
   "hash": "5f916db3497faf3eb853abdc6606b8c143214f45cda1fb1686afc2a68bcf118d"
  },
  "kernelspec": {
   "display_name": "Python 3.5.6 64-bit ('deep_chess2': conda)",
   "name": "python3"
  },
  "language_info": {
   "codemirror_mode": {
    "name": "ipython",
    "version": 3
   },
   "file_extension": ".py",
   "mimetype": "text/x-python",
   "name": "python",
   "nbconvert_exporter": "python",
   "pygments_lexer": "ipython3",
   "version": "3.7.0"
  }
 },
 "nbformat": 4,
 "nbformat_minor": 4
}
