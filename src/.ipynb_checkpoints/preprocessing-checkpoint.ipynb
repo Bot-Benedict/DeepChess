{
 "cells": [
  {
   "cell_type": "code",
   "execution_count": 86,
   "id": "9537a92e",
   "metadata": {},
   "outputs": [],
   "source": [
    "import numpy as np\n",
    "import chess \n",
    "import chess.pgn\n",
    "import random\n",
    "import pandas as pd\n",
    "from datetime import datetime\n",
    "from tqdm import tqdm"
   ]
  },
  {
   "cell_type": "code",
   "execution_count": 123,
   "id": "c86e8475",
   "metadata": {},
   "outputs": [
    {
     "name": "stderr",
     "output_type": "stream",
     "text": [
      "0it [00:25, ?it/s]\n",
      "0it [00:24, ?it/s]\n"
     ]
    }
   ],
   "source": [
    "def set_seed(seed_num):\n",
    "    '''\n",
    "    Sets the seed for the python random module\n",
    "    '''\n",
    "    random.seed(seed_num)\n",
    "    \n",
    "def outcome(game):\n",
    "    '''\n",
    "    Returns the results of a game.\n",
    "        - 0: White won\n",
    "        - 1: Black won\n",
    "        - 2: Draw\n",
    "    '''\n",
    "    return str(game.headers['Result'][-1])\n",
    "\n",
    "def sample_position(position_list, move_list, num_positions, num_omit):\n",
    "    '''\n",
    "    Returns a list of candidate positions for training our model. These positions must\n",
    "    fit the criteria of:\n",
    "        - Only taken after first num_omit steps,\n",
    "        - Does not involve a capture move\n",
    "    '''\n",
    "    # Only look for moves after first num_omit steps\n",
    "    pos = position_list[num_omit:]\n",
    "    moves = move_list[num_omit:]\n",
    "    \n",
    "    # Exclude moves that involved a capture (i.e. has an 'x' notation in the moves list)\n",
    "    pos = [pos[i] for i in range(len(moves)) if 'x' not in moves[i]]\n",
    "    \n",
    "    if len(pos) > num_positions:\n",
    "        return random.sample(pos, num_positions)\n",
    "    \n",
    "    return pos\n",
    "    \n",
    "def pgn_to_fen(game):\n",
    "    '''\n",
    "    Reads a game and parses through the moves of the entire game. Returns two \n",
    "    lists, position_list and move_list which contains a list of FEN and SAN notation respectively.\n",
    "    '''\n",
    "    node = game\n",
    "    position_list = []\n",
    "    move_list = []\n",
    "    \n",
    "    while not node.is_end():\n",
    "        next_node = node.variation(0)\n",
    "        position_list.append(next_node.board().fen())\n",
    "        move_list.append(node.board().san(next_node.move))\n",
    "        node = next_node\n",
    "        \n",
    "    return position_list, move_list\n",
    "\n",
    "def fen_to_bitboard(fen):\n",
    "    '''\n",
    "    Takes in a FEN position and returns a bitboard notation\n",
    "    '''\n",
    "    \n",
    "    chess_pieces = {\n",
    "        'p': 0,\n",
    "        'n': 1,\n",
    "        'b': 2,\n",
    "        'r': 3,\n",
    "        'q': 4,\n",
    "        'k': 5,\n",
    "        'P': 6,\n",
    "        'N': 7,\n",
    "        'B': 8,\n",
    "        'R': 9,\n",
    "        'Q': 10,\n",
    "        'K': 11\n",
    "    }\n",
    "    \n",
    "    bitboard = np.zeros((773), dtype=int)\n",
    "    currIndex = 0\n",
    "    [position, turn, castling, _, _, _] = fen.split(' ')\n",
    "    for ch in position:\n",
    "        if ch == '/':\n",
    "            continue\n",
    "        elif ch >= '1' and ch <= '8':\n",
    "            currIndex += (ord(ch) - ord('0')) * 12\n",
    "        else:\n",
    "            bitboard[currIndex + chess_pieces[ch]] = 1\n",
    "            currIndex += 12\n",
    "    bitboard[768] = 1 if turn == 'w' else 0\n",
    "    bitboard[769] = 1 if 'K' in castling else 0\n",
    "    bitboard[770] = 1 if 'Q' in castling else 0\n",
    "    bitboard[771] = 1 if 'k' in castling else 0\n",
    "    bitboard[772] = 1 if 'q' in castling else 0\n",
    "    return bitboard\n",
    "\n",
    "def write_to_csv(dataframe, fp):\n",
    "    '''\n",
    "    Write a dictionary to a pandas dataframe and then to a csv file using fp as the file path.\n",
    "    '''\n",
    "    df = pd.DataFrame.from_dict(dataframe)\n",
    "    df.to_csv(fp, index=False)\n",
    "    now = datetime.now()\n",
    "    current_time = now.strftime(\"%H:%M:%S\")\n",
    "    print(\"Completion Time =\", current_time)   \n",
    "    \n",
    "def games_to_bitboard_csv(file_path, num_positions=10, num_omit=5, seed_num=0, fp='../data/chess_dataset.csv'):\n",
    "    '''\n",
    "    Acts as the driver function that reads the games and call all other functions to\n",
    "    eventually write the bitboard representation to csv\n",
    "    '''\n",
    "    now = datetime.now()\n",
    "    current_time = now.strftime(\"%H:%M:%S\")\n",
    "    print(\"Start Time =\", current_time)       \n",
    "    \n",
    "    set_seed(seed_num)\n",
    "    pgn = open(file_path)\n",
    "    game = chess.pgn.read_game(pgn)\n",
    "    dataframe = {\n",
    "        'bitboard':[],\n",
    "        'label':[],\n",
    "        'identifier':[]        \n",
    "    }    \n",
    "    while tqdm(game is not None):\n",
    "        result = outcome(game)\n",
    "        if result != \"2\":\n",
    "            position_list, move_list = pgn_to_fen(game)\n",
    "            position_list = sample_position(position_list, move_list, num_positions, num_omit)\n",
    "            for pos in position_list:\n",
    "                dataframe['bitboard'].append(fen_to_bitboard(pos))\n",
    "                dataframe['label'].append(result)\n",
    "                dataframe['identifier'].append(str(game.headers))\n",
    "            \n",
    "        game = chess.pgn.read_game(pgn)\n",
    "    write_to_csv(dataframe, fp)\n",
    "    \n",
    "    \n"
   ]
  },
  {
   "cell_type": "code",
   "execution_count": 124,
   "id": "af8c2171",
   "metadata": {
    "scrolled": true
   },
   "outputs": [
    {
     "name": "stderr",
     "output_type": "stream",
     "text": [
      "0it [00:00, ?it/s]\n",
      "0it [00:00, ?it/s]"
     ]
    },
    {
     "name": "stdout",
     "output_type": "stream",
     "text": [
      "Start Time = 02:14:20\n"
     ]
    },
    {
     "name": "stderr",
     "output_type": "stream",
     "text": [
      "0it [00:00, ?it/s]\n",
      "0it [00:00, ?it/s]\n",
      "0it [00:00, ?it/s]\u001b[A"
     ]
    },
    {
     "name": "stdout",
     "output_type": "stream",
     "text": [
      "Completion Time = 02:14:21\n"
     ]
    }
   ],
   "source": [
    "games_to_bitboard_csv('./data/temp_sample.pgn', fp='./data/temp_sample.csv')"
   ]
  }
 ],
 "metadata": {
  "kernelspec": {
   "display_name": "Python 3",
   "language": "python",
   "name": "python3"
  },
  "language_info": {
   "codemirror_mode": {
    "name": "ipython",
    "version": 3
   },
   "file_extension": ".py",
   "mimetype": "text/x-python",
   "name": "python",
   "nbconvert_exporter": "python",
   "pygments_lexer": "ipython3",
   "version": "3.9.4"
  }
 },
 "nbformat": 4,
 "nbformat_minor": 5
}
